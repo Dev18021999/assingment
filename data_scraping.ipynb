{
 "cells": [
  {
   "cell_type": "code",
   "execution_count": 39,
   "metadata": {},
   "outputs": [],
   "source": [
    "from urllib.request import urlopen as uReq\n",
    "from bs4 import BeautifulSoup as soup"
   ]
  },
  {
   "cell_type": "code",
   "execution_count": 40,
   "metadata": {},
   "outputs": [],
   "source": [
    "my_url = \"https://www.beyoung.in/combo-products/\"\n",
    "uClient = uReq(my_url)"
   ]
  },
  {
   "cell_type": "code",
   "execution_count": 41,
   "metadata": {},
   "outputs": [],
   "source": [
    "page_html = uClient.read()\n",
    "uClient.close()"
   ]
  },
  {
   "cell_type": "code",
   "execution_count": 42,
   "metadata": {},
   "outputs": [],
   "source": [
    "page_soup = soup(page_html, \"html.parser\")"
   ]
  },
  {
   "cell_type": "code",
   "execution_count": 43,
   "metadata": {},
   "outputs": [],
   "source": [
    "containers = page_soup.findAll(\"div\",{\"class\":\"product-item-info\"})\n"
   ]
  },
  {
   "cell_type": "code",
   "execution_count": 44,
   "metadata": {},
   "outputs": [
    {
     "data": {
      "text/plain": [
       "103"
      ]
     },
     "execution_count": 44,
     "metadata": {},
     "output_type": "execute_result"
    }
   ],
   "source": [
    "filename = \"products.csv\"\n",
    "f = open(filename, 'w', encoding='utf-8')\n",
    "\n",
    "headers = \"name of product, discounted price, actual price, discount, image url of product, image2 url of product\\n\"\n",
    "f.write(headers)"
   ]
  },
  {
   "cell_type": "code",
   "execution_count": 45,
   "metadata": {},
   "outputs": [
    {
     "name": "stdout",
     "output_type": "stream",
     "text": [
      "Plain T-shirt Combo - Pick Any 4\n",
      "   ₹998 \n",
      "   ₹1,599 \n",
      "(38% off)\n",
      "https://www.beyoung.in/media/catalog/product/cache/a2ab128dd7882d54c4899772914c19b3/c/o/colors_1.jpg\n",
      "https://www.beyoung.in/media/wysiwyg/loaderbey.gif\n",
      "Plain T-shirt Combo - Pick Any 3\n",
      "   ₹799 \n",
      "   ₹1,499 \n",
      "(47% off)\n",
      "https://www.beyoung.in/media/catalog/product/cache/a2ab128dd7882d54c4899772914c19b3/c/o/colors_1_3.jpg\n",
      "https://www.beyoung.in/media/wysiwyg/loaderbey.gif\n",
      "Plain T-shirt Combo - Pick Any 2\n",
      "   ₹599 \n",
      "   ₹999 \n",
      "(40% off)\n",
      "https://www.beyoung.in/media/catalog/product/cache/a2ab128dd7882d54c4899772914c19b3/c/o/colors_1_5.jpg\n",
      "https://www.beyoung.in/media/wysiwyg/loaderbey.gif\n",
      "Plain T-shirts Combo Black & White\n",
      "   ₹599 \n",
      "   ₹999 \n",
      "(40% off)\n",
      "https://www.beyoung.in/media/catalog/product/cache/a2ab128dd7882d54c4899772914c19b3/w/h/white_and_black.jpg\n",
      "https://www.beyoung.in/media/wysiwyg/loaderbey.gif\n",
      "Avenger Logo Combo T-shirt - Pack of Two\n",
      "   ₹549 \n",
      "   ₹1,099 \n",
      "(50% off)\n",
      "https://www.beyoung.in/media/catalog/product/cache/a2ab128dd7882d54c4899772914c19b3/2/0/2020-02-14_1.jpg\n",
      "https://www.beyoung.in/media/wysiwyg/loaderbey.gif\n",
      "Plain T-shirts Combo White & Rose Pink\n",
      "   ₹599 \n",
      "   ₹999 \n",
      "(40% off)\n",
      "https://www.beyoung.in/media/catalog/product/cache/a2ab128dd7882d54c4899772914c19b3/w/h/white_pink_hanger_1.jpg\n",
      "https://www.beyoung.in/media/wysiwyg/loaderbey.gif\n",
      "Panda Combo T-shirt - Pack of Three\n",
      "   ₹825 \n",
      "   ₹1,499 \n",
      "(45% off)\n",
      "https://www.beyoung.in/media/catalog/product/cache/a2ab128dd7882d54c4899772914c19b3/h/a/hanging_panda_mustard_men_model.jpg\n",
      "https://www.beyoung.in/media/wysiwyg/loaderbey.gif\n",
      "Plain T-shirts Combo Red & Navy Blue\n",
      "   ₹599 \n",
      "   ₹999 \n",
      "(40% off)\n",
      "https://www.beyoung.in/media/catalog/product/cache/a2ab128dd7882d54c4899772914c19b3/r/e/red_navy_blue_hanger_1.jpg\n",
      "https://www.beyoung.in/media/wysiwyg/loaderbey.gif\n",
      "DC Combo T-shirt - Pack of Two \n",
      "   ₹575 \n",
      "   ₹1,099 \n",
      "(48% off)\n",
      "https://www.beyoung.in/media/catalog/product/cache/a2ab128dd7882d54c4899772914c19b3/b/a/batman_black_men_model_2.jpg\n",
      "https://www.beyoung.in/media/wysiwyg/loaderbey.gif\n",
      "TRI Color Combo T-shirts\n",
      "   ₹799 \n",
      "   ₹1,499 \n",
      "(47% off)\n",
      "https://www.beyoung.in/media/catalog/product/cache/a2ab128dd7882d54c4899772914c19b3/v/i/vintage_orange_1_1.jpg\n",
      "https://www.beyoung.in/media/wysiwyg/loaderbey.gif\n",
      "Travel Combo - Pack of Three Combo T-shirt\n",
      "   ₹825 \n",
      "   ₹1,499 \n",
      "(45% off)\n",
      "https://www.beyoung.in/media/catalog/product/cache/a2ab128dd7882d54c4899772914c19b3/e/x/explore_the_unseen_mustard_men_model_1_1.jpg\n",
      "https://www.beyoung.in/media/wysiwyg/loaderbey.gif\n",
      "Plain T-shirts Combo Burgundy & Rose Pink \n",
      "   ₹599 \n",
      "   ₹999 \n",
      "(40% off)\n",
      "https://www.beyoung.in/media/catalog/product/cache/a2ab128dd7882d54c4899772914c19b3/p/i/pink_and_burgundy.jpg\n",
      "https://www.beyoung.in/media/wysiwyg/loaderbey.gif\n"
     ]
    }
   ],
   "source": [
    "for item in containers:    \n",
    "    nop = item.findAll(\"a\",{\"class\":\"product-item-link\"})\n",
    "    name_of_product = nop[0].text\n",
    "    \n",
    "    dp = item.findAll(\"span\",{\"class\":\"special-price\"})\n",
    "    discounted_price= dp[0].text\n",
    "    \n",
    "    ap = item.findAll(\"span\",{\"class\":\"old-price\"})\n",
    "    actual_price = ap[0].text\n",
    "    \n",
    "    dis = item.findAll(\"span\",{\"class\":\"percent-discount\"})\n",
    "    discount = dis[0].text\n",
    "    \n",
    "    imge = item.div.a.span.span.img[\"data-original\"]\n",
    "    img = item.div.a.span.span.img[\"src\"]\n",
    "    \n",
    "    print(name_of_product)\n",
    "    print(discounted_price)\n",
    "    print(actual_price)\n",
    "    print(discount)\n",
    "    print(imge)\n",
    "    print(img)\n",
    "    f.write(name_of_product+ \",\" +discounted_price+ \",\" +actual_price+ \",\" +discount+  \",\" +imge+ \",\" +img+\"\\n\")\n",
    "    \n"
   ]
  },
  {
   "cell_type": "code",
   "execution_count": 22,
   "metadata": {},
   "outputs": [],
   "source": []
  }
 ],
 "metadata": {
  "kernelspec": {
   "display_name": "Python 3",
   "language": "python",
   "name": "python3"
  },
  "language_info": {
   "codemirror_mode": {
    "name": "ipython",
    "version": 3
   },
   "file_extension": ".py",
   "mimetype": "text/x-python",
   "name": "python",
   "nbconvert_exporter": "python",
   "pygments_lexer": "ipython3",
   "version": "3.7.4"
  }
 },
 "nbformat": 4,
 "nbformat_minor": 2
}
